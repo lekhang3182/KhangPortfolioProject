{
 "cells": [
  {
   "cell_type": "code",
   "execution_count": 1,
   "id": "b70b7c0a-1070-411a-b391-f7112640dba9",
   "metadata": {},
   "outputs": [],
   "source": [
    "# Nhập công cụ\n",
    "\n",
    "from bs4 import BeautifulSoup \n",
    "import requests\n",
    "import smtplib\n",
    "import time\n",
    "import datetime"
   ]
  },
  {
   "cell_type": "code",
   "execution_count": 6,
   "id": "901c02cf-e01b-4738-82e8-87874393bf7f",
   "metadata": {},
   "outputs": [
    {
     "name": "stdout",
     "output_type": "stream",
     "text": [
      "\n",
      "                    Data Analyst T Shirt Funny Gift for Data Analyst Graduate Career Professional Data Analyst Spreadsheet Unisex Tee\n",
      "                   \n",
      "\n",
      "                    $23.97\n",
      "                   \n"
     ]
    }
   ],
   "source": [
    "# Liên kết với website\n",
    "\n",
    "URL = 'https://www.amazon.com/Analyst-Graduate-Career-Professional-Spreadsheet/dp/B0C1M3NB3F/ref=sr_1_1?crid=24BRM6QRG7MIG&dib=eyJ2IjoiMSJ9.KEhZNoiS_9aZRnvUMTy2C4-GdG5UJ6nTuXaK_CDtH8lzAes9r56WIu-IbasQYASQige1RLLXz58QieVPWSDgA6Vtu32WtV7_yagqnvyvTZix1kd9sUtDtHhzNCa3s4wR6nyYLohiwRH7wbnNj7ix7UeBSX3yH2YFi77F-NgCx6MJp0YJQmnHeX4XfllJNz0AadilEPG3RFPEOT7A8sWw3g-zqfSNWruQVdLggP1LcNzRPU6nNgtYEKmpKPs-c5DwRIYYxlyBY7QivKH0zlxgvZta5qrIclw0AvfmgUNCaCA.q9Gg8pkck8qNWvJ0YvPg35bf2iK2zenxQtsLFaLwtCc&dib_tag=se&keywords=data%2Banalyst%2Btshirt&qid=1709092020&sprefix=data%2Banalyst%2Btshirt%2Caps%2C1302&sr=8-1&th=1&psc=1'\n",
    "\n",
    "headers = {\"User-Agent\": \"Mozilla/5.0 (Windows NT 10.0; Win64; x64) AppleWebKit/537.36 (KHTML, like Gecko) Chrome/122.0.0.0 Safari/537.36 Edg/122.0.0.0\", \"Accept-Encoding\":\"gzip, deflate\", \"Accept\":\"text/html,application/xhtml+xml,application/xml;q=0.9,*/*;q=0.8\", \"DNT\":\"1\",\"Connection\":\"close\", \"Upgrade-Insecure-Requests\":\"1\"}\n",
    "\n",
    "page = requests.get(URL, headers=headers)\n",
    "\n",
    "soup1 = BeautifulSoup(page.content,\"html.parser\")\n",
    "\n",
    "soup2 = BeautifulSoup(soup1.prettify(),\"html.parser\")\n",
    "\n",
    "title = soup2.find(id='productTitle').get_text()\n",
    "\n",
    "price = soup2.select_one('div.aok-relative').select_one('span.aok-offscreen').get_text() \n",
    "#Vì amazon bỏ hiện giá bằng id nên không thể dùng find để tìm mà phải dùng select one, trong 1 dòng code có rất nhiều loại đầu, đầu a hoặc đầu aok,\n",
    "#muốn khai thác thông tin từ đầu aok thì ngay từ đầu phải chọn đầu có chứa aok, \n",
    "#sau khi viết xong thì thêm .get_text() đằng sau để nó chỉ lấy ra text được chứa trong code chứ không lấy code\n",
    "\n",
    "print(title)\n",
    "print(price)\n",
    "\n",
    "\n",
    "\n",
    "\n",
    "\n",
    "\n",
    "\n",
    "\n"
   ]
  },
  {
   "cell_type": "code",
   "execution_count": 7,
   "id": "acab1921-0587-4581-9879-ad0925a6be82",
   "metadata": {},
   "outputs": [
    {
     "name": "stdout",
     "output_type": "stream",
     "text": [
      "Data Analyst T Shirt Funny Gift for Data Analyst Graduate Career Professional Data Analyst Spreadsheet Unisex Tee\n",
      "23.97\n"
     ]
    }
   ],
   "source": [
    "#Clean data\n",
    "price = price.strip()[1:]\n",
    "title = title.strip()\n",
    "\n",
    "print(title)\n",
    "print(price)"
   ]
  },
  {
   "cell_type": "code",
   "execution_count": 8,
   "id": "6a953723-1100-4034-b5df-b35c1f8e4a59",
   "metadata": {},
   "outputs": [
    {
     "name": "stdout",
     "output_type": "stream",
     "text": [
      "2024-02-28\n"
     ]
    }
   ],
   "source": [
    "#Tạo mốc thời gian lấy thông tin\n",
    "import datetime\n",
    "\n",
    "today = datetime.date.today()\n",
    "print(today)"
   ]
  },
  {
   "cell_type": "code",
   "execution_count": 9,
   "id": "52731437-1ed8-43f7-8f40-bfb52338a083",
   "metadata": {},
   "outputs": [],
   "source": [
    "#Tạo csv và đưa thông tin vừa lấy vào đó\n",
    "import csv\n",
    "\n",
    "header = ['Title', 'Price','Date']\n",
    "data = [title,price,today]\n",
    "\n",
    "with open('Lấy thông tin từ Amazon.csv', 'w', newline='',encoding='UTF8') as f:\n",
    "    writer = csv.writer(f)\n",
    "    writer.writerow(header)\n",
    "    writer.writerow(data)"
   ]
  },
  {
   "cell_type": "code",
   "execution_count": 18,
   "id": "0ff0fee4-585d-4973-9bf7-84cfd54fb58e",
   "metadata": {},
   "outputs": [
    {
     "name": "stdout",
     "output_type": "stream",
     "text": [
      "                                               Title  Price        Date\n",
      "0  Data Analyst T Shirt Funny Gift for Data Analy...  23.97    28-02-24\n",
      "1                                              Title  Price        Date\n",
      "2  Data Analyst T Shirt Funny Gift for Data Analy...  23.97  2024-02-28\n",
      "3                                              Title  Price        Date\n",
      "4  Data Analyst T Shirt Funny Gift for Data Analy...  23.97  2024-02-28\n",
      "5  Data Analyst T Shirt Funny Gift for Data Analy...  23.97  2024-02-28\n"
     ]
    }
   ],
   "source": [
    "#Đọc csv vừa mới tạo\n",
    "\n",
    "import pandas as pd\n",
    "df = pd.read_csv(r'D:\\HỌC HÀNH\\TỰ HỌC DATA ANALYST\\Portfolio\\JupyterSAVE\\Lấy thông tin từ Amazon.csv')\n",
    "#Để lấy link phía trên và không lỗi thì nên bật propeties lên và chép link + tên csv trong đó\n",
    "print(df)"
   ]
  },
  {
   "cell_type": "code",
   "execution_count": 17,
   "id": "c2082534-3ec3-47f2-9f9a-17b353081eca",
   "metadata": {},
   "outputs": [],
   "source": [
    "#Cập nhật thông tin vào csv\n",
    "\n",
    "with open('Lấy thông tin từ Amazon.csv', 'a+', newline='',encoding='UTF8') as f:\n",
    "    writer = csv.writer(f)\n",
    "    writer.writerow(data)"
   ]
  },
  {
   "cell_type": "code",
   "execution_count": 19,
   "id": "61518285-c195-4c8d-972e-30f842db3c29",
   "metadata": {},
   "outputs": [],
   "source": [
    "#Auto check giá\n",
    "\n",
    "def check_price():\n",
    "    URL = 'https://www.amazon.com/Analyst-Graduate-Career-Professional-Spreadsheet/dp/B0C1M3NB3F/ref=sr_1_1?crid=24BRM6QRG7MIG&dib=eyJ2IjoiMSJ9.KEhZNoiS_9aZRnvUMTy2C4-GdG5UJ6nTuXaK_CDtH8lzAes9r56WIu-IbasQYASQige1RLLXz58QieVPWSDgA6Vtu32WtV7_yagqnvyvTZix1kd9sUtDtHhzNCa3s4wR6nyYLohiwRH7wbnNj7ix7UeBSX3yH2YFi77F-NgCx6MJp0YJQmnHeX4XfllJNz0AadilEPG3RFPEOT7A8sWw3g-zqfSNWruQVdLggP1LcNzRPU6nNgtYEKmpKPs-c5DwRIYYxlyBY7QivKH0zlxgvZta5qrIclw0AvfmgUNCaCA.q9Gg8pkck8qNWvJ0YvPg35bf2iK2zenxQtsLFaLwtCc&dib_tag=se&keywords=data%2Banalyst%2Btshirt&qid=1709092020&sprefix=data%2Banalyst%2Btshirt%2Caps%2C1302&sr=8-1&th=1&psc=1'\n",
    "\n",
    "    headers = {\"User-Agent\": \"Mozilla/5.0 (Windows NT 10.0; Win64; x64) AppleWebKit/537.36 (KHTML, like Gecko) Chrome/122.0.0.0 Safari/537.36 Edg/122.0.0.0\", \"Accept-Encoding\":\"gzip, deflate\", \"Accept\":\"text/html,application/xhtml+xml,application/xml;q=0.9,*/*;q=0.8\", \"DNT\":\"1\",\"Connection\":\"close\", \"Upgrade-Insecure-Requests\":\"1\"}\n",
    "\n",
    "    page = requests.get(URL, headers=headers)\n",
    "\n",
    "    soup1 = BeautifulSoup(page.content,\"html.parser\")\n",
    "\n",
    "    soup2 = BeautifulSoup(soup1.prettify(),\"html.parser\")\n",
    "\n",
    "    title = soup2.find(id='productTitle').get_text()\n",
    "\n",
    "    price = soup2.select_one('div.aok-relative').select_one('span.aok-offscreen').get_text() \n",
    "\n",
    "    price = price.strip()[1:]\n",
    "    title = title.strip()\n",
    "\n",
    "    import datetime\n",
    "\n",
    "    today = datetime.date.today()\n",
    "\n",
    "    import csv\n",
    "\n",
    "    header = ['Title', 'Price','Date']\n",
    "    data = [title,price,today]\n",
    "\n",
    "    with open('Lấy thông tin từ Amazon.csv', 'a+', newline='',encoding='UTF8') as f:\n",
    "        writer = csv.writer(f)\n",
    "        writer.writerow(data)\n",
    "    "
   ]
  },
  {
   "cell_type": "code",
   "execution_count": 21,
   "id": "8522bdef-7ba6-498a-9a81-ce6fe266344c",
   "metadata": {},
   "outputs": [
    {
     "ename": "KeyboardInterrupt",
     "evalue": "",
     "output_type": "error",
     "traceback": [
      "\u001b[1;31m---------------------------------------------------------------------------\u001b[0m",
      "\u001b[1;31mKeyboardInterrupt\u001b[0m                         Traceback (most recent call last)",
      "Cell \u001b[1;32mIn[21], line 3\u001b[0m\n\u001b[0;32m      1\u001b[0m \u001b[38;5;28;01mwhile\u001b[39;00m(\u001b[38;5;28;01mTrue\u001b[39;00m):\n\u001b[0;32m      2\u001b[0m     check_price()\n\u001b[1;32m----> 3\u001b[0m     time\u001b[38;5;241m.\u001b[39msleep(\u001b[38;5;241m5\u001b[39m)\n",
      "\u001b[1;31mKeyboardInterrupt\u001b[0m: "
     ]
    }
   ],
   "source": [
    "while(True):\n",
    "    check_price()\n",
    "    time.sleep(5)\n",
    "    #Có thể set time.sleep(bằng bất cứ số nào, vd 86400) là số giấy trong 1 ngày, khi có bất kì thay đổi nào cũng sẽ được cập nhật vào csv "
   ]
  },
  {
   "cell_type": "code",
   "execution_count": 22,
   "id": "86fd4d48-438b-4593-b47d-1e1263c3642b",
   "metadata": {},
   "outputs": [
    {
     "name": "stdout",
     "output_type": "stream",
     "text": [
      "                                               Title  Price        Date\n",
      "0  Data Analyst T Shirt Funny Gift for Data Analy...  23.97    28-02-24\n",
      "1                                              Title  Price        Date\n",
      "2  Data Analyst T Shirt Funny Gift for Data Analy...  23.97  2024-02-28\n",
      "3                                              Title  Price        Date\n",
      "4  Data Analyst T Shirt Funny Gift for Data Analy...  23.97  2024-02-28\n",
      "5  Data Analyst T Shirt Funny Gift for Data Analy...  23.97  2024-02-28\n",
      "6  Data Analyst T Shirt Funny Gift for Data Analy...  23.97  2024-02-28\n"
     ]
    }
   ],
   "source": [
    "import pandas as pd\n",
    "df = pd.read_csv(r'D:\\HỌC HÀNH\\TỰ HỌC DATA ANALYST\\Portfolio\\JupyterSAVE\\Lấy thông tin từ Amazon.csv')\n",
    "print(df)"
   ]
  },
  {
   "cell_type": "code",
   "execution_count": null,
   "id": "b9796a9b-d831-4921-ae07-73ae4702e053",
   "metadata": {},
   "outputs": [],
   "source": []
  }
 ],
 "metadata": {
  "kernelspec": {
   "display_name": "Python 3 (ipykernel)",
   "language": "python",
   "name": "python3"
  },
  "language_info": {
   "codemirror_mode": {
    "name": "ipython",
    "version": 3
   },
   "file_extension": ".py",
   "mimetype": "text/x-python",
   "name": "python",
   "nbconvert_exporter": "python",
   "pygments_lexer": "ipython3",
   "version": "3.11.7"
  }
 },
 "nbformat": 4,
 "nbformat_minor": 5
}
